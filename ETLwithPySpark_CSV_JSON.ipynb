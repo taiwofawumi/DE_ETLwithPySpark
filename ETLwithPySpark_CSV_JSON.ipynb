{
 "cells": [
  {
   "cell_type": "markdown",
   "id": "1eb6da52",
   "metadata": {},
   "source": [
    "# Extract, Transform and Load Using PySpark"
   ]
  },
  {
   "cell_type": "markdown",
   "id": "34e00d49",
   "metadata": {},
   "source": [
    "In this notebook, I used the pyspark API to perform ETL on the Canadian Pipeline incidents data (open data)."
   ]
  },
  {
   "cell_type": "markdown",
   "id": "c58508d6",
   "metadata": {},
   "source": [
    "## Import Libraries"
   ]
  },
  {
   "cell_type": "code",
   "execution_count": 1,
   "id": "cf1c3aba",
   "metadata": {},
   "outputs": [],
   "source": [
    "import pyspark\n",
    "from pyspark.sql import SparkSession\n",
    "from pyspark.sql.functions import regexp_replace, col, asc,desc"
   ]
  },
  {
   "cell_type": "markdown",
   "id": "478c7721",
   "metadata": {},
   "source": [
    "## Create Spark Session"
   ]
  },
  {
   "cell_type": "code",
   "execution_count": 2,
   "id": "1f1780d5",
   "metadata": {
    "scrolled": true
   },
   "outputs": [
    {
     "data": {
      "text/html": [
       "\n",
       "            <div>\n",
       "                <p><b>SparkSession - in-memory</b></p>\n",
       "                \n",
       "        <div>\n",
       "            <p><b>SparkContext</b></p>\n",
       "\n",
       "            <p><a href=\"http://Taiwo-Fawumi-PC:4040\">Spark UI</a></p>\n",
       "\n",
       "            <dl>\n",
       "              <dt>Version</dt>\n",
       "                <dd><code>v3.2.0</code></dd>\n",
       "              <dt>Master</dt>\n",
       "                <dd><code>local[*]</code></dd>\n",
       "              <dt>AppName</dt>\n",
       "                <dd><code>pipelineincidents_ETL</code></dd>\n",
       "            </dl>\n",
       "        </div>\n",
       "        \n",
       "            </div>\n",
       "        "
      ],
      "text/plain": [
       "<pyspark.sql.session.SparkSession at 0x201b6054eb0>"
      ]
     },
     "execution_count": 2,
     "metadata": {},
     "output_type": "execute_result"
    }
   ],
   "source": [
    "spark = SparkSession.builder.appName('pipelineincidents_ETL').getOrCreate()\n",
    "spark"
   ]
  },
  {
   "cell_type": "markdown",
   "id": "e14b0c37",
   "metadata": {},
   "source": [
    "## Define Extract Function"
   ]
  },
  {
   "cell_type": "code",
   "execution_count": 3,
   "id": "301c7b2d",
   "metadata": {},
   "outputs": [],
   "source": [
    "def extract():\n",
    "    df_pyspark = spark.read.csv('pipeline-incidents-data.csv', header=True, inferSchema=True)\n",
    "    return df_pyspark"
   ]
  },
  {
   "cell_type": "markdown",
   "id": "211cebf8",
   "metadata": {},
   "source": [
    "## Extract CSV into Spark Dataframe"
   ]
  },
  {
   "cell_type": "code",
   "execution_count": 4,
   "id": "753f1b5b",
   "metadata": {
    "scrolled": true
   },
   "outputs": [
    {
     "name": "stdout",
     "output_type": "stream",
     "text": [
      "root\n",
      " |-- Incident Number: string (nullable = true)\n",
      " |-- Incident Types: string (nullable = true)\n",
      " |-- Reported Date: string (nullable = true)\n",
      " |-- Nearest Populated Centre: string (nullable = true)\n",
      " |-- Province: string (nullable = true)\n",
      " |-- Company: string (nullable = true)\n",
      " |-- Status: string (nullable = true)\n",
      " |-- Latitude: double (nullable = true)\n",
      " |-- Longitude: double (nullable = true)\n",
      " |-- Approximate Volume Released (m3): string (nullable = true)\n",
      " |-- Substance: string (nullable = true)\n",
      " |-- Release Type: string (nullable = true)\n",
      " |-- Significant: string (nullable = true)\n",
      " |-- Year: integer (nullable = true)\n",
      " |-- What Happened: string (nullable = true)\n",
      " |-- Why It Happened: string (nullable = true)\n",
      "\n"
     ]
    }
   ],
   "source": [
    "# Call extract function\n",
    "incidents_df = extract()\n",
    "incidents_df.printSchema()"
   ]
  },
  {
   "cell_type": "markdown",
   "id": "2c692cb8",
   "metadata": {},
   "source": [
    "## Define Transformation Function"
   ]
  },
  {
   "cell_type": "code",
   "execution_count": 5,
   "id": "49293110",
   "metadata": {},
   "outputs": [],
   "source": [
    "def transform(data):\n",
    "    # Select specific columns\n",
    "    select_columns = ['Incident Number', 'Incident Types', 'Reported Date', 'Province', 'Company', 'Substance', 'Approximate Volume Released (m3)']\n",
    "    data = data.select(select_columns)\n",
    "    \n",
    "    # Rename Column\n",
    "    data = data.withColumnRenamed('Approximate Volume Released (m3)', 'Volume Released (m3)')\n",
    "    \n",
    "    # Replace values\n",
    "    data = data.withColumn('Volume Released (m3)', regexp_replace('Volume Released (m3)', 'Not Provided', ''))\n",
    "    \n",
    "    # Change Column Type\n",
    "    data = data.withColumn('Volume Released (m3)', data['Volume Released (m3)'].cast('float'))\n",
    "    \n",
    "    return data"
   ]
  },
  {
   "cell_type": "markdown",
   "id": "fc0cbccf",
   "metadata": {},
   "source": [
    "## Apply Transformation to Dataframe"
   ]
  },
  {
   "cell_type": "code",
   "execution_count": 6,
   "id": "dfbf08cd",
   "metadata": {
    "scrolled": true
   },
   "outputs": [
    {
     "name": "stdout",
     "output_type": "stream",
     "text": [
      "+-------+---------------+--------------------+-------------+------------+--------------------+---------+--------------------+\n",
      "|summary|Incident Number|      Incident Types|Reported Date|    Province|             Company|Substance|Volume Released (m3)|\n",
      "+-------+---------------+--------------------+-------------+------------+--------------------+---------+--------------------+\n",
      "|  count|           1485|                1485|         1485|        1485|                1485|     1485|                 493|\n",
      "|   mean|           null|                null|         null|        null|                null|     null|  111555.51457974689|\n",
      "| stddev|           null|                null|         null|        null|                null|     null|   978309.9793791081|\n",
      "|    min|    INC2007-097|Adverse Environme...|   01/01/2016|     Alberta|2193914 Canada Li...|    Amine|              1.0E-4|\n",
      "|    max|    INC2021-092|Serious Injury (C...|   12/31/2018|Saskatchewan|Westcoast Energy ...|    Water|              1.65E7|\n",
      "+-------+---------------+--------------------+-------------+------------+--------------------+---------+--------------------+\n",
      "\n"
     ]
    }
   ],
   "source": [
    "incidents_df_transformed = transform(incidents_df)\n",
    "incidents_df_transformed.describe().show()"
   ]
  },
  {
   "cell_type": "markdown",
   "id": "5dcd41ab",
   "metadata": {},
   "source": [
    "## Display some Insights from Data"
   ]
  },
  {
   "cell_type": "markdown",
   "id": "3ad13520",
   "metadata": {},
   "source": [
    "### Count of Incidents by Incident Types"
   ]
  },
  {
   "cell_type": "code",
   "execution_count": 7,
   "id": "ec1b44be",
   "metadata": {},
   "outputs": [],
   "source": [
    "# incidents_df_transformed.groupBy('Incident Types').count().sort(col('count').desc()).show(truncate=False)"
   ]
  },
  {
   "cell_type": "markdown",
   "id": "44940f2d",
   "metadata": {},
   "source": [
    "### Count of Incidents by Province"
   ]
  },
  {
   "cell_type": "code",
   "execution_count": 8,
   "id": "f8cda53f",
   "metadata": {},
   "outputs": [],
   "source": [
    "# incidents_df_transformed.groupBy('Province').count().sort(col('count').desc()).show(truncate=False)"
   ]
  },
  {
   "cell_type": "markdown",
   "id": "dffce4f2",
   "metadata": {},
   "source": [
    "### Count of Incidents by Company"
   ]
  },
  {
   "cell_type": "code",
   "execution_count": 9,
   "id": "d16beef6",
   "metadata": {},
   "outputs": [],
   "source": [
    "# incidents_df_transformed.groupBy('Company').count().sort(col('count').desc()).show(truncate=False)"
   ]
  },
  {
   "cell_type": "markdown",
   "id": "4b4b40f1",
   "metadata": {},
   "source": [
    "### Count of Incidents by Substance"
   ]
  },
  {
   "cell_type": "code",
   "execution_count": 10,
   "id": "bbcc6d7d",
   "metadata": {},
   "outputs": [],
   "source": [
    "# incidents_df_transformed.groupBy('Substance').count().sort(col('count').desc()).show(truncate=False)"
   ]
  },
  {
   "cell_type": "markdown",
   "id": "9f94dce7",
   "metadata": {},
   "source": [
    "## Define Load Function"
   ]
  },
  {
   "cell_type": "code",
   "execution_count": 20,
   "id": "d6582e29",
   "metadata": {},
   "outputs": [],
   "source": [
    "def load_csv(data):\n",
    "    data.toPandas().to_csv('pipeline_incidents.csv')\n",
    "    \n",
    "def load_json(data):\n",
    "    data.toPandas().to_json('pipeline_incidents.json')"
   ]
  },
  {
   "cell_type": "markdown",
   "id": "6e49fbe4",
   "metadata": {},
   "source": [
    "## Load Data to CSV and JSON Files"
   ]
  },
  {
   "cell_type": "code",
   "execution_count": 21,
   "id": "06bfab28",
   "metadata": {},
   "outputs": [],
   "source": [
    "load_csv(incidents_df_transformed)\n",
    "load_json(incidents_df_transformed)"
   ]
  },
  {
   "cell_type": "markdown",
   "id": "7404734d",
   "metadata": {},
   "source": [
    "## Author"
   ]
  },
  {
   "cell_type": "markdown",
   "id": "5ddaa72c",
   "metadata": {},
   "source": [
    "Taiwo Fawumi\n",
    "\n",
    "taiwo.fawumi@yahoo.com\n",
    "\n",
    "Published Nov., 2021"
   ]
  }
 ],
 "metadata": {
  "kernelspec": {
   "display_name": "Python 3",
   "language": "python",
   "name": "python3"
  },
  "language_info": {
   "codemirror_mode": {
    "name": "ipython",
    "version": 3
   },
   "file_extension": ".py",
   "mimetype": "text/x-python",
   "name": "python",
   "nbconvert_exporter": "python",
   "pygments_lexer": "ipython3",
   "version": "3.8.8"
  }
 },
 "nbformat": 4,
 "nbformat_minor": 5
}
